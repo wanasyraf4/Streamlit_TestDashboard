{
 "cells": [
  {
   "cell_type": "code",
   "execution_count": 1,
   "metadata": {},
   "outputs": [
    {
     "data": {
      "text/plain": [
       "(  Products Unnamed: 1 Unnamed: 2  Unnamed: 3  Unnamed: 4  Unnamed: 5  \\\n",
       " 0      NaN        NaN        NaN         NaN         NaN         NaN   \n",
       " 1     Name   Price($)  Weight(g)         NaN         NaN         NaN   \n",
       " 2   Item 1         10        200         NaN         NaN         NaN   \n",
       " 3   Item 2        100         20         NaN         NaN         NaN   \n",
       " 4   Item 3         30        300         NaN         NaN         NaN   \n",
       " \n",
       "    Unnamed: 6  Unnamed: 7 Courier Charges Unnamed: 9  \n",
       " 0         NaN         NaN             NaN        NaN  \n",
       " 1         NaN         NaN       Weight(g)  Charge($)  \n",
       " 2         NaN         NaN       0 to 200g        $5   \n",
       " 3         NaN         NaN    200g to 500g       $10   \n",
       " 4         NaN         NaN   500g to 1000g       $15   ,\n",
       " Index(['Products', 'Unnamed: 1', 'Unnamed: 2', 'Unnamed: 3', 'Unnamed: 4',\n",
       "        'Unnamed: 5', 'Unnamed: 6', 'Unnamed: 7', 'Courier Charges',\n",
       "        'Unnamed: 9'],\n",
       "       dtype='object'))"
      ]
     },
     "execution_count": 1,
     "metadata": {},
     "output_type": "execute_result"
    }
   ],
   "source": [
    "import pandas as pd\n",
    "\n",
    "# Load the CSV file to examine its structure\n",
    "# file_path = '/mnt/data/Test_info.csv'\n",
    "df = pd.read_csv('Test_info.csv')\n",
    "\n",
    "# Display the first few rows and the column information\n",
    "df.head(), df.columns\n"
   ]
  },
  {
   "cell_type": "code",
   "execution_count": 2,
   "metadata": {},
   "outputs": [
    {
     "data": {
      "text/html": [
       "<div>\n",
       "<style scoped>\n",
       "    .dataframe tbody tr th:only-of-type {\n",
       "        vertical-align: middle;\n",
       "    }\n",
       "\n",
       "    .dataframe tbody tr th {\n",
       "        vertical-align: top;\n",
       "    }\n",
       "\n",
       "    .dataframe thead th {\n",
       "        text-align: right;\n",
       "    }\n",
       "</style>\n",
       "<table border=\"1\" class=\"dataframe\">\n",
       "  <thead>\n",
       "    <tr style=\"text-align: right;\">\n",
       "      <th></th>\n",
       "      <th>Name</th>\n",
       "      <th>Price ($)</th>\n",
       "      <th>Weight (g)</th>\n",
       "    </tr>\n",
       "  </thead>\n",
       "  <tbody>\n",
       "    <tr>\n",
       "      <th>0</th>\n",
       "      <td>Item 1</td>\n",
       "      <td>10</td>\n",
       "      <td>200</td>\n",
       "    </tr>\n",
       "    <tr>\n",
       "      <th>1</th>\n",
       "      <td>Item 2</td>\n",
       "      <td>100</td>\n",
       "      <td>20</td>\n",
       "    </tr>\n",
       "    <tr>\n",
       "      <th>2</th>\n",
       "      <td>Item 3</td>\n",
       "      <td>30</td>\n",
       "      <td>300</td>\n",
       "    </tr>\n",
       "    <tr>\n",
       "      <th>3</th>\n",
       "      <td>Item 4</td>\n",
       "      <td>20</td>\n",
       "      <td>500</td>\n",
       "    </tr>\n",
       "    <tr>\n",
       "      <th>4</th>\n",
       "      <td>Item 5</td>\n",
       "      <td>30</td>\n",
       "      <td>250</td>\n",
       "    </tr>\n",
       "  </tbody>\n",
       "</table>\n",
       "</div>"
      ],
      "text/plain": [
       "     Name Price ($) Weight (g)\n",
       "0  Item 1        10        200\n",
       "1  Item 2       100         20\n",
       "2  Item 3        30        300\n",
       "3  Item 4        20        500\n",
       "4  Item 5        30        250"
      ]
     },
     "execution_count": 2,
     "metadata": {},
     "output_type": "execute_result"
    }
   ],
   "source": [
    "df = df.drop([0, 1])\n",
    "df = df[['Products','Unnamed: 1', 'Unnamed: 2']]\n",
    "df.reset_index(drop=True, inplace=True)\n",
    "df.columns = ['Name', 'Price ($)', 'Weight (g)']\n",
    "df.head(5)"
   ]
  },
  {
   "cell_type": "code",
   "execution_count": 3,
   "metadata": {},
   "outputs": [],
   "source": [
    "def split_func(df):\n",
    "    # Make sure the data types are correct\n",
    "    df['Price ($)'] = pd.to_numeric(df['Price ($)'], errors='coerce')\n",
    "    df['Weight (g)'] = pd.to_numeric(df['Weight (g)'], errors='coerce')\n",
    "\n",
    "    # Convert DataFrame to a list of lists (array-like) for processing\n",
    "    data = df.to_records(index=False).tolist()\n",
    "\n",
    "    packages = []\n",
    "    remaining_items = data\n",
    "\n",
    "    # Sort items by price to optimize package configuration\n",
    "    remaining_items.sort(key=lambda x: x[1], reverse=True)\n",
    "\n",
    "    while remaining_items:\n",
    "        current_package = []\n",
    "        current_package_cost = 0\n",
    "        current_package_weight = 0\n",
    "\n",
    "        # Iterate over a copy of the list for safe modification during the loop\n",
    "        for item in remaining_items[:]:\n",
    "            item_name, item_price, item_weight = item\n",
    "\n",
    "            # Ensure adding this item won't exceed the $250 price limit\n",
    "            if current_package_cost + item_price < 250:\n",
    "                current_package.append(item_name)\n",
    "                current_package_cost += item_price\n",
    "                current_package_weight += item_weight\n",
    "                remaining_items.remove(item)\n",
    "\n",
    "        # Store the package details\n",
    "        if current_package:\n",
    "            packages.append({\n",
    "                'items': current_package,\n",
    "                'total_price': current_package_cost,\n",
    "                'total_weight': current_package_weight\n",
    "            })\n",
    "\n",
    "    return packages\n"
   ]
  },
  {
   "cell_type": "code",
   "execution_count": 4,
   "metadata": {},
   "outputs": [
    {
     "name": "stdout",
     "output_type": "stream",
     "text": [
      "Package: Items - Item 31, Total Price - $249, Total Weight - 200g\n",
      "Package: Items - Item 16, Item 12, Total Price - $249, Total Weight - 810g\n",
      "Package: Items - Item 14, Item 44, Total Price - $249, Total Weight - 520g\n",
      "Package: Items - Item 17, Item 24, Total Price - $249, Total Weight - 30g\n",
      "Package: Items - Item 32, Item 23, Item 37, Total Price - $249, Total Weight - 470g\n",
      "Package: Items - Item 30, Item 47, Item 13, Total Price - $248, Total Weight - 1340g\n",
      "Package: Items - Item 45, Item 3, Item 42, Total Price - $248, Total Weight - 1100g\n",
      "Package: Items - Item 7, Item 19, Item 43, Total Price - $247, Total Weight - 220g\n",
      "Package: Items - Item 49, Item 26, Item 36, Total Price - $249, Total Weight - 900g\n",
      "Package: Items - Item 29, Item 34, Total Price - $243, Total Weight - 350g\n",
      "Package: Items - Item 33, Item 6, Item 35, Total Price - $242, Total Weight - 730g\n",
      "Package: Items - Item 48, Item 5, Item 4, Total Price - $240, Total Weight - 1550g\n",
      "Package: Items - Item 40, Item 20, Item 39, Total Price - $246, Total Weight - 820g\n",
      "Package: Items - Item 46, Item 10, Item 41, Item 50, Item 1, Item 11, Item 22, Total Price - $241, Total Weight - 1510g\n",
      "Package: Items - Item 9, Item 18, Total Price - $240, Total Weight - 990g\n",
      "Package: Items - Item 28, Item 15, Total Price - $248, Total Weight - 800g\n",
      "Package: Items - Item 8, Item 2, Total Price - $220, Total Weight - 520g\n",
      "Package: Items - Item 27, Item 38, Total Price - $189, Total Weight - 810g\n",
      "Package: Items - Item 25, Item 21, Total Price - $177, Total Weight - 310g\n"
     ]
    }
   ],
   "source": [
    "# Test the function with your DataFrame\n",
    "packages = split_func(df)\n",
    "for package in packages:\n",
    "    print(f\"Package: Items - {', '.join(package['items'])}, Total Price - ${package['total_price']}, Total Weight - {package['total_weight']}g\")\n"
   ]
  }
 ],
 "metadata": {
  "kernelspec": {
   "display_name": "Python 3",
   "language": "python",
   "name": "python3"
  },
  "language_info": {
   "codemirror_mode": {
    "name": "ipython",
    "version": 3
   },
   "file_extension": ".py",
   "mimetype": "text/x-python",
   "name": "python",
   "nbconvert_exporter": "python",
   "pygments_lexer": "ipython3",
   "version": "3.10.12"
  }
 },
 "nbformat": 4,
 "nbformat_minor": 2
}
